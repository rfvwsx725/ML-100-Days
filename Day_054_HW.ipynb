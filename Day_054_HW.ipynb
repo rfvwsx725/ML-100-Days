{
 "cells": [
  {
   "cell_type": "markdown",
   "metadata": {},
   "source": [
    "# 作業\n",
    "* 試著想想看, 非監督學習是否有可能使用評價函數 (Metric) 來鑑別好壞呢?  \n",
    "(Hint : 可以分為 \"有目標值\" 與 \"無目標值\" 兩個方向思考)"
   ]
  },
  {
   "cell_type": "markdown",
   "metadata": {
    "collapsed": true
   },
   "source": [
    "無目標值的分群，不行能用評價函數來鑑別好壞。因為； 非監督式學習的分群數量需要預先指定，不同的分群數量就有可能分出不同的結果。因此沒有固定的方式來判斷分權的好壞或是準確度。通常是要將分群結果轉換成視覺化圖表之後來判斷模型的好壞。\n",
    "\n",
    "有目標值的分群，應該可以用分類模型的評估指標來判別分類的好壞。 將預測的分群結果與已知的目標值做比對，應該可以用準確率、F1 的指標來確認模型的分群後結果與目標值是否一致。"
   ]
  }
 ],
 "metadata": {
  "kernelspec": {
   "display_name": "Python 3",
   "language": "python",
   "name": "python3"
  },
  "language_info": {
   "codemirror_mode": {
    "name": "ipython",
    "version": 3
   },
   "file_extension": ".py",
   "mimetype": "text/x-python",
   "name": "python",
   "nbconvert_exporter": "python",
   "pygments_lexer": "ipython3",
   "version": "3.7.1"
  }
 },
 "nbformat": 4,
 "nbformat_minor": 1
}
