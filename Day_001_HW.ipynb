{
 "cells": [
  {
   "cell_type": "markdown",
   "metadata": {},
   "source": [
    "作業1：\n",
    "\n",
    "請上 Kaggle, 在 Competitions 或 Dataset 中找一組競賽或資料並寫下：\n",
    "\n",
    "1. 你選的這組資料為何重要\n",
    "\n",
    "2. 資料從何而來 (tips: 譬如提供者是誰、以什麼方式蒐集)\n",
    "\n",
    "3. 蒐集而來的資料型態為何\n",
    "\n",
    "4. 這組資料想解決的問題如何評估\n",
    "\n",
    "Ans:\n",
    "\n",
    "1. data:Students Performance in Exams，可以探討影響學生學業表現之因素\n",
    "2. 資料由某大學學生提供\n",
    "3. 主要為數值型態與類別型態資料\n",
    "4. 可使用迴歸分析等方法，來找出影響學業表現之因素，並可根據建立之迴歸模型對其他校內或同一系上學生進行分數預測"
   ]
  },
  {
   "cell_type": "markdown",
   "metadata": {},
   "source": [
    "作業2：\n",
    "\n",
    "想像你經營一個自由載客車隊，你希望能透過數據分析以提升業績，請你思考並描述你如何規劃整體的分析/解決方案：\n",
    "\n",
    "1. 核心問題為何 (tips：如何定義 「提升業績 & 你的假設」)\n",
    "\n",
    "2. 資料從何而來 (tips：哪些資料可能會對你想問的問題產生影響 & 資料如何蒐集)\n",
    "\n",
    "3. 蒐集而來的資料型態為何\n",
    "\n",
    "4. 你要回答的問題，其如何評估 (tips：你的假設如何驗證)\n",
    "\n",
    "Ans:\n",
    "\n",
    "1. 為了提升業績，可以利用資料找出哪地點是熱門地點載客量高且影響因素是什麼、哪些其他服務吸引顧客、叫車車來時間是否會影響顧客等\n",
    "2. 資料從載客車上之紀錄器得到之資料，對顧客之問卷調查等\n",
    "3. 蒐集來之資料會有時間序列資料、連續型資料、類別型資料\n",
    "4. (1)找出哪地點是熱門地點載客量高且影響因素是什麼:使用迴歸分析\n",
    "   (2)哪些其他服務吸引顧客、叫車車來時間是否會影響顧客:問卷調查\n"
   ]
  },
  {
   "cell_type": "markdown",
   "metadata": {},
   "source": [
    "作業3：\n",
    "\n",
    "請點選檢視範例依照 Day_001_example_of_metrics.ipynb 完成 Mean Squared Error 的函式\n",
    "\n",
    "資料夾結構建立規則提醒：ML100 > data資料夾 & ipynb檔 \n",
    "\n",
    "(請注意data的存放位置，建議放在*.ipynb 同一個目錄下，這樣才能在不修改code的情況下正常執行)"
   ]
  },
  {
   "cell_type": "markdown",
   "metadata": {},
   "source": [
    "練習時間\n",
    "請寫一個函式用來計算 Mean Square Error\n",
    "MSE=1n∑ni=1(Yi−Ŷ i)2 \n",
    "Hint: 如何取平方"
   ]
  },
  {
   "cell_type": "code",
   "execution_count": 15,
   "metadata": {},
   "outputs": [],
   "source": [
    "import numpy as np\n",
    "import matplotlib.pyplot as plt\n",
    "import math"
   ]
  },
  {
   "cell_type": "code",
   "execution_count": 16,
   "metadata": {},
   "outputs": [],
   "source": [
    "def mean_squared_error(y, yp):\n",
    "    \"\"\"\" \n",
    "    y:實際值\n",
    "    yp:預測值\n",
    "    mse:MSE\n",
    "    \"\"\"\n",
    "    list1 = []\n",
    "    for i in range(len(y)):\n",
    "        a = math.pow(y[i]-yp[i],2)\n",
    "        list1.append(a)   \n",
    "    return sum(list1)/len(list1)\n",
    "\n",
    "def mean_absolute_error(y, yp):\n",
    "    \"\"\"\n",
    "    y: 實際值\n",
    "    yp: 預測值\n",
    "    mae: MAE\n",
    "    \"\"\"\n",
    "    mae = sum(abs(y - yp)) / len(y)\n",
    "    return mae"
   ]
  },
  {
   "cell_type": "code",
   "execution_count": 11,
   "metadata": {},
   "outputs": [
    {
     "name": "stdout",
     "output_type": "stream",
     "text": [
      "0.7639863715383981\n"
     ]
    },
    {
     "data": {
      "image/png": "[encoded data removed]",
      "text/plain": [
       "<Figure size 432x288 with 1 Axes>"
      ]
     },
     "metadata": {
      "needs_background": "light"
     },
     "output_type": "display_data"
    }
   ],
   "source": [
    "w = 3\n",
    "b = 0.5\n",
    "x_lin = np.linspace(0, 100, 101)\n",
    "y = (x_lin + np.random.randn(101) * 5) * w + b\n",
    "print(y[0])\n",
    "plt.plot(x_lin, y, 'b.', label = 'data points')\n",
    "plt.title(\"Assume we have data points\")\n",
    "plt.legend(loc = 2)\n",
    "plt.show()"
   ]
  },
  {
   "cell_type": "code",
   "execution_count": 12,
   "metadata": {},
   "outputs": [
    {
     "name": "stdout",
     "output_type": "stream",
     "text": [
      "[  0.5   3.5   6.5   9.5  12.5  15.5  18.5  21.5  24.5  27.5  30.5  33.5\n",
      "  36.5  39.5  42.5  45.5  48.5  51.5  54.5  57.5  60.5  63.5  66.5  69.5\n",
      "  72.5  75.5  78.5  81.5  84.5  87.5  90.5  93.5  96.5  99.5 102.5 105.5\n",
      " 108.5 111.5 114.5 117.5 120.5 123.5 126.5 129.5 132.5 135.5 138.5 141.5\n",
      " 144.5 147.5 150.5 153.5 156.5 159.5 162.5 165.5 168.5 171.5 174.5 177.5\n",
      " 180.5 183.5 186.5 189.5 192.5 195.5 198.5 201.5 204.5 207.5 210.5 213.5\n",
      " 216.5 219.5 222.5 225.5 228.5 231.5 234.5 237.5 240.5 243.5 246.5 249.5\n",
      " 252.5 255.5 258.5 261.5 264.5 267.5 270.5 273.5 276.5 279.5 282.5 285.5\n",
      " 288.5 291.5 294.5 297.5 300.5]\n"
     ]
    },
    {
     "data": {
      "image/png": "[encoded data removed]",
      "text/plain": [
       "<Figure size 432x288 with 1 Axes>"
      ]
     },
     "metadata": {
      "needs_background": "light"
     },
     "output_type": "display_data"
    }
   ],
   "source": [
    "y_hat = x_lin * w + b\n",
    "print(y_hat)\n",
    "plt.plot(x_lin, y, 'b.', label = 'data')\n",
    "plt.plot(x_lin, y_hat, 'r-', label = 'prediction')\n",
    "plt.title(\"Assume we have data points (And the prediction)\")\n",
    "plt.legend(loc = 2)\n",
    "plt.show()"
   ]
  },
  {
   "cell_type": "code",
   "execution_count": 17,
   "metadata": {},
   "outputs": [
    {
     "name": "stdout",
     "output_type": "stream",
     "text": [
      "The Mean squared error is 234.778\n",
      "The Mean absolute error is 12.474\n"
     ]
    }
   ],
   "source": [
    "# 執行 Function, 確認有沒有正常執行\n",
    "MSE = mean_squared_error(y, y_hat)\n",
    "MAE = mean_absolute_error(y, y_hat)\n",
    "\n",
    "print(\"The Mean squared error is %.3f\" % (MSE))\n",
    "print(\"The Mean absolute error is %.3f\" % (MAE))"
   ]
  },
  {
   "cell_type": "code",
   "execution_count": null,
   "metadata": {},
   "outputs": [],
   "source": []
  }
 ],
 "metadata": {
  "kernelspec": {
   "display_name": "Python 3",
   "language": "python",
   "name": "python3"
  },
  "language_info": {
   "codemirror_mode": {
    "name": "ipython",
    "version": 3
   },
   "file_extension": ".py",
   "mimetype": "text/x-python",
   "name": "python",
   "nbconvert_exporter": "python",
   "pygments_lexer": "ipython3",
   "version": "3.7.0"
  }
 },
 "nbformat": 4,
 "nbformat_minor": 2
}
